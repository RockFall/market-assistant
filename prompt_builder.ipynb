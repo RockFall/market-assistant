{
 "cells": [
  {
   "cell_type": "code",
   "execution_count": 1,
   "metadata": {},
   "outputs": [],
   "source": [
    "a = 3"
   ]
  },
  {
   "cell_type": "code",
   "execution_count": 2,
   "metadata": {},
   "outputs": [],
   "source": [
    "import os\n",
    "\n",
    "def get_files_content_recursively(root_folder):\n",
    "    result = []\n",
    "\n",
    "    # Walk through the root directory\n",
    "    for foldername, subfolders, filenames in os.walk(root_folder):\n",
    "        for filename in filenames:\n",
    "            file_path = os.path.join(foldername, filename)\n",
    "            # Read file content and store it\n",
    "            try:\n",
    "                with open(file_path, 'r', encoding='utf-8') as file:\n",
    "                    content = file.read()\n",
    "                    # Format the output as requested\n",
    "                    relative_path = os.path.relpath(file_path, root_folder)\n",
    "                    result.append(f\"{relative_path}:\\n```\\n{content}\\n```\\n\")\n",
    "            except Exception as e:\n",
    "                # Catch any errors reading the files (e.g., binary files)\n",
    "                print(f\"Error reading {file_path}: {e}\")\n",
    "    \n",
    "    return '\\n'.join(result)\n",
    "\n",
    "\n",
    "def save_to_text(output_text, output_filename):\n",
    "    with open(output_filename, 'w', encoding='utf-8') as f:\n",
    "        f.write(output_text)\n"
   ]
  },
  {
   "cell_type": "code",
   "execution_count": 4,
   "metadata": {},
   "outputs": [
    {
     "name": "stdout",
     "output_type": "stream",
     "text": [
      "Repository content saved to lib_folder_content.txt\n"
     ]
    }
   ],
   "source": [
    "# Example usage:\n",
    "root_folder = \"lib\"\n",
    "output_filename = \"lib_folder_content.txt\"\n",
    "\n",
    "files_content = get_files_content_recursively(root_folder)\n",
    "save_to_text(files_content, output_filename)\n",
    "\n",
    "print(f\"Repository content saved to {output_filename}\")"
   ]
  }
 ],
 "metadata": {
  "kernelspec": {
   "display_name": "Python 3",
   "language": "python",
   "name": "python3"
  },
  "language_info": {
   "codemirror_mode": {
    "name": "ipython",
    "version": 3
   },
   "file_extension": ".py",
   "mimetype": "text/x-python",
   "name": "python",
   "nbconvert_exporter": "python",
   "pygments_lexer": "ipython3",
   "version": "3.11.2"
  }
 },
 "nbformat": 4,
 "nbformat_minor": 2
}
